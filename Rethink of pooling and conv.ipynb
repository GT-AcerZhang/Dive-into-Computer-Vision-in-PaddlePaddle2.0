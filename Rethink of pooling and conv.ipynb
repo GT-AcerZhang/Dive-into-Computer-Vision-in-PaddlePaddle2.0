{
 "cells": [
  {
   "cell_type": "markdown",
   "metadata": {
    "collapsed": false
   },
   "source": [
    "# 对于池化层和步长为2的卷积层的一些思考\n"
   ]
  },
  {
   "cell_type": "markdown",
   "metadata": {
    "collapsed": false
   },
   "source": [
    "## 引言\n",
    "\n",
    "\n",
    "对于池化层和步长为2的卷积层的思考源于前一段时间对于2.0文档API的评估。自从ResNet开始，大家逐渐使用步长为2的卷积层替代Size为2的池化层，二者都是对特征图进行下采样的操作。池化层的主要意义（目前的主流看法，但是有相关论文反驳这个观点）在于invariance(不变性)，这个不变性包括平移不变性、尺度不变性、旋转不变形。其过程如下图所示。\n",
    "\n",
    "\n",
    "![](https://ai-studio-static-online.cdn.bcebos.com/9ac4b736e14b449ea2da658d2b1912c86a8c9dc3953b459b834ee6a322100c2c)\n",
    "![](https://ai-studio-static-online.cdn.bcebos.com/d810421d28e2448e93b5a78049c27840c89f1b101d5447ccad21148ac17e02fa)\n",
    "![](https://ai-studio-static-online.cdn.bcebos.com/fcfed10b57214ef3bbbe278079f2ab6e7c6eb040aaf646ef9661493334a78061)\n",
    "\n",
    "\n",
    "对于池化层和步长为2的卷积层来说，个人的理解是这样的，池化层是一种先验的下采样方式，即人为的确定好下采样的规则；而对于步长为2的卷积层来说，其参数是通过学习得到的，采样的规则是不确定的。下面对两种下采样方式进行一组对比实验，实验设计的可能不够严谨，欢迎大家在评论区讨论。"
   ]
  },
  {
   "cell_type": "markdown",
   "metadata": {
    "collapsed": false
   },
   "source": [
    "## 实验设计\n",
    "\n",
    "本次对比实验采用LeNet进行对比，目的在于简单的说明池化层与步长为2的卷积层之前的区别。采用MNIST数据集。"
   ]
  },
  {
   "cell_type": "markdown",
   "metadata": {
    "collapsed": false
   },
   "source": [
    "### 1、导入paddle，使用2.0版本的paddle"
   ]
  },
  {
   "cell_type": "code",
   "execution_count": 2,
   "metadata": {
    "collapsed": false
   },
   "outputs": [
    {
     "name": "stdout",
     "output_type": "stream",
     "text": [
      "2.0.0-rc0\n"
     ]
    }
   ],
   "source": [
    "import paddle\r\n",
    "print(paddle.__version__)"
   ]
  },
  {
   "cell_type": "markdown",
   "metadata": {
    "collapsed": false
   },
   "source": [
    "### 2、导入训练数据和测试数据"
   ]
  },
  {
   "cell_type": "code",
   "execution_count": 3,
   "metadata": {
    "collapsed": false
   },
   "outputs": [],
   "source": [
    "train_dataset = paddle.vision.datasets.MNIST(mode='train')\r\n",
    "test_dataset = paddle.vision.datasets.MNIST(mode='test')"
   ]
  },
  {
   "cell_type": "markdown",
   "metadata": {
    "collapsed": false
   },
   "source": [
    "### 3、查看数据"
   ]
  },
  {
   "cell_type": "code",
   "execution_count": 4,
   "metadata": {
    "collapsed": false
   },
   "outputs": [],
   "source": [
    "%matplotlib notebook\r\n",
    "import numpy as np\r\n",
    "import matplotlib.pyplot as plt\r\n",
    "train_data0, train_label_0 = train_dataset[0][0],train_dataset[0][1]\r\n",
    "train_data0 = train_data0.reshape([28,28])\r\n",
    "plt.figure(figsize=(2,2))\r\n",
    "plt.imshow(train_data0, cmap=plt.cm.binary)\r\n",
    "print('train_data0 label is: ' + str(train_label_0))"
   ]
  },
  {
   "cell_type": "markdown",
   "metadata": {
    "collapsed": false
   },
   "source": [
    "### 4、构建LeNet5网络"
   ]
  },
  {
   "cell_type": "code",
   "execution_count": 5,
   "metadata": {
    "collapsed": false
   },
   "outputs": [],
   "source": [
    "import paddle.nn.functional as F\r\n",
    "class LeNet(paddle.nn.Layer):\r\n",
    "    def __init__(self):\r\n",
    "        super(LeNet, self).__init__()\r\n",
    "        self.conv1 = paddle.nn.Conv2D(in_channels=1, out_channels=6, kernel_size=5, stride=1, padding=2)\r\n",
    "        self.max_pool1 = paddle.nn.MaxPool2D(kernel_size=2,  stride=2)\r\n",
    "        self.conv2 = paddle.nn.Conv2D(in_channels=6, out_channels=16, kernel_size=5, stride=1)\r\n",
    "        self.max_pool2 = paddle.nn.MaxPool2D(kernel_size=2, stride=2)\r\n",
    "        self.linear1 = paddle.nn.Linear(in_features=16*5*5, out_features=120)\r\n",
    "        self.linear2 = paddle.nn.Linear(in_features=120, out_features=84)\r\n",
    "        self.linear3 = paddle.nn.Linear(in_features=84, out_features=10)\r\n",
    "\r\n",
    "    def forward(self, x):\r\n",
    "        x = self.conv1(x)\r\n",
    "        x = F.relu(x)\r\n",
    "        x = self.max_pool1(x)\r\n",
    "        x = F.relu(x)\r\n",
    "        x = self.conv2(x)\r\n",
    "        x = self.max_pool2(x)\r\n",
    "        # print(x.shape)\r\n",
    "        x = paddle.flatten(x, start_axis=1,stop_axis=-1)\r\n",
    "        x = self.linear1(x)\r\n",
    "        x = F.relu(x)\r\n",
    "        x = self.linear2(x)\r\n",
    "        x = F.relu(x)\r\n",
    "        x = self.linear3(x)\r\n",
    "        return x"
   ]
  },
  {
   "cell_type": "markdown",
   "metadata": {
    "collapsed": false
   },
   "source": [
    "### 5、模型封装与配置"
   ]
  },
  {
   "cell_type": "code",
   "execution_count": 6,
   "metadata": {
    "collapsed": false
   },
   "outputs": [],
   "source": [
    "from paddle.metric import Accuracy\r\n",
    "model2 = paddle.Model(LeNet())   # 用Model封装模型\r\n",
    "optim = paddle.optimizer.Adam(learning_rate=0.001, parameters=model2.parameters())\r\n",
    "\r\n",
    "# 配置模型\r\n",
    "model2.prepare(\r\n",
    "    optim,\r\n",
    "    paddle.nn.CrossEntropyLoss(),\r\n",
    "    Accuracy(topk=(1, 2))\r\n",
    "    )"
   ]
  },
  {
   "cell_type": "markdown",
   "metadata": {
    "collapsed": false
   },
   "source": [
    "### 6、模型训练，这里进行10次迭代。"
   ]
  },
  {
   "cell_type": "code",
   "execution_count": 7,
   "metadata": {
    "collapsed": false
   },
   "outputs": [],
   "source": [
    "# 训练模型\r\n",
    "model2.fit(train_dataset,\r\n",
    "        epochs=10,\r\n",
    "        batch_size=64,\r\n",
    "        verbose=1\r\n",
    "        )"
   ]
  },
  {
   "cell_type": "markdown",
   "metadata": {
    "collapsed": false
   },
   "source": [
    "### 7、验证模型"
   ]
  },
  {
   "cell_type": "code",
   "execution_count": 8,
   "metadata": {
    "collapsed": false
   },
   "outputs": [
    {
     "name": "stdout",
     "output_type": "stream",
     "text": [
      "Eval begin...\n",
      "step 157/157 [==============================] - loss: 1.4789e-05 - acc_top1: 0.9810 - acc_top2: 0.9932 - 3ms/step       \n",
      "Eval samples: 10000\n"
     ]
    },
    {
     "data": {
      "text/plain": [
       "{'loss': [1.4788801e-05], 'acc_top1': 0.981, 'acc_top2': 0.9932}"
      ]
     },
     "execution_count": 8,
     "metadata": {},
     "output_type": "execute_result"
    }
   ],
   "source": [
    "model2.evaluate(test_dataset, batch_size=64, verbose=1)"
   ]
  },
  {
   "cell_type": "markdown",
   "metadata": {
    "collapsed": false
   },
   "source": [
    "### 8、构建使用步长为2的卷积层替代池化层的LeNet5"
   ]
  },
  {
   "cell_type": "code",
   "execution_count": 9,
   "metadata": {
    "collapsed": false
   },
   "outputs": [],
   "source": [
    "import paddle.nn.functional as F\r\n",
    "class LeNet_nopool(paddle.nn.Layer):\r\n",
    "    def __init__(self):\r\n",
    "        super(LeNet_nopool, self).__init__()\r\n",
    "        self.conv1 = paddle.nn.Conv2D(in_channels=1, out_channels=6, kernel_size=5, stride=1, padding=2)\r\n",
    "        # self.max_pool1 = paddle.nn.MaxPool2D(kernel_size=2,  stride=2)\r\n",
    "        self.conv2 = paddle.nn.Conv2D(in_channels=6, out_channels=16, kernel_size=5, stride=2)\r\n",
    "        self.conv3 = paddle.nn.Conv2D(in_channels=16, out_channels=16, kernel_size=3, stride=1, padding=1)\r\n",
    "        self.conv4 = paddle.nn.Conv2D(in_channels=16, out_channels=16, kernel_size=3, stride=2)\r\n",
    "        # self.max_pool2 = paddle.nn.MaxPool2D(kernel_size=2, stride=2)\r\n",
    "        self.linear1 = paddle.nn.Linear(in_features=16*5*5, out_features=120)\r\n",
    "        self.linear2 = paddle.nn.Linear(in_features=120, out_features=84)\r\n",
    "        self.linear3 = paddle.nn.Linear(in_features=84, out_features=10)\r\n",
    "\r\n",
    "    def forward(self, x):\r\n",
    "        x = self.conv1(x)\r\n",
    "        # print(x.shape)\r\n",
    "        x = F.relu(x)\r\n",
    "        x = self.conv2(x)\r\n",
    "        # print(x.shape)\r\n",
    "        x = F.relu(x)\r\n",
    "        x = self.conv3(x)\r\n",
    "        # print(x.shape)\r\n",
    "        x = F.relu(x)\r\n",
    "        x = self.conv4(x)\r\n",
    "        # print(x.shape)\r\n",
    "        x = paddle.flatten(x, start_axis=1,stop_axis=-1)\r\n",
    "        x = self.linear1(x)\r\n",
    "        x = F.relu(x)\r\n",
    "        x = self.linear2(x)\r\n",
    "        x = F.relu(x)\r\n",
    "        x = self.linear3(x)\r\n",
    "        return x"
   ]
  },
  {
   "cell_type": "markdown",
   "metadata": {
    "collapsed": false
   },
   "source": [
    "### 9、模型配置与训练"
   ]
  },
  {
   "cell_type": "code",
   "execution_count": 10,
   "metadata": {
    "collapsed": false
   },
   "outputs": [],
   "source": [
    "from paddle.metric import Accuracy\r\n",
    "model3 = paddle.Model(LeNet_nopool())   # 用Model封装模型\r\n",
    "optim = paddle.optimizer.Adam(learning_rate=0.001, parameters=model3.parameters())\r\n",
    "\r\n",
    "# 配置模型\r\n",
    "model3.prepare(\r\n",
    "    optim,\r\n",
    "    paddle.nn.CrossEntropyLoss(),\r\n",
    "    Accuracy(topk=(1, 2))\r\n",
    "    )\r\n",
    "\r\n",
    "# 训练模型\r\n",
    "model3.fit(train_dataset,\r\n",
    "        epochs=10,\r\n",
    "        batch_size=64,\r\n",
    "        verbose=1\r\n",
    "        )"
   ]
  },
  {
   "cell_type": "markdown",
   "metadata": {
    "collapsed": false
   },
   "source": [
    "### 10、模型验证"
   ]
  },
  {
   "cell_type": "code",
   "execution_count": 11,
   "metadata": {
    "collapsed": false
   },
   "outputs": [
    {
     "name": "stdout",
     "output_type": "stream",
     "text": [
      "Eval begin...\n",
      "step 157/157 [==============================] - loss: 1.7807e-06 - acc_top1: 0.9837 - acc_top2: 0.9964 - 3ms/step         \n",
      "Eval samples: 10000\n"
     ]
    },
    {
     "data": {
      "text/plain": [
       "{'loss': [1.7806786e-06], 'acc_top1': 0.9837, 'acc_top2': 0.9964}"
      ]
     },
     "execution_count": 11,
     "metadata": {},
     "output_type": "execute_result"
    }
   ],
   "source": [
    "model3.evaluate(test_dataset, batch_size=64, verbose=1)"
   ]
  },
  {
   "cell_type": "markdown",
   "metadata": {
    "collapsed": false
   },
   "source": [
    "## 实验结果分析\n",
    "\n",
    "\n",
    "从两者在MNIST测试集上的结果来看，使用步长为2的卷积层替代池化层，其模型的表现略高于原始的LeNet5。表明使用卷积层代替池化层是对模型表现有较好的提升。但是改进之后的LeNet5在参数量上是高于原始的LeNet5的，"
   ]
  },
  {
   "cell_type": "markdown",
   "metadata": {
    "collapsed": false
   },
   "source": [
    "### 11、参数量对比"
   ]
  },
  {
   "cell_type": "code",
   "execution_count": 13,
   "metadata": {
    "collapsed": false
   },
   "outputs": [
    {
     "name": "stdout",
     "output_type": "stream",
     "text": [
      "# model3 parameters: Tensor(shape=[1], dtype=int64, place=CUDAPlace(0), stop_gradient=True,\n",
      "       [66346])\n"
     ]
    }
   ],
   "source": [
    "#改进的LeNet5\r\n",
    "print('# model3 parameters:', sum(param.numel() for param in model3.parameters()))"
   ]
  },
  {
   "cell_type": "code",
   "execution_count": 14,
   "metadata": {
    "collapsed": false
   },
   "outputs": [
    {
     "name": "stdout",
     "output_type": "stream",
     "text": [
      "# model2 parameters: Tensor(shape=[1], dtype=int64, place=CUDAPlace(0), stop_gradient=True,\n",
      "       [61706])\n"
     ]
    }
   ],
   "source": [
    "#原始的LeNet5\r\n",
    "print('# model2 parameters:', sum(param.numel() for param in model.parameters()))"
   ]
  },
  {
   "cell_type": "markdown",
   "metadata": {
    "collapsed": false
   },
   "source": [
    "# 总结\n",
    "\n",
    "（1）从图像成像角度来看，图像在成像过程中接收模拟信号变成电信号再存储的阵列都不是同时的。即图片上每一点都是有时序的。结合图像的时域信息进行多模态训练可能会有突破。\n",
    "\n",
    "\n",
    "（2）在图像中应用香农定理，下采样越多，信息丢失越多，对于CNN中池化层的讨论，大家可以参考：[CNN真的需要下采样（上采样）吗?](https://zhuanlan.zhihu.com/p/94477174)\n",
    "\n",
    "\n",
    "（3）对于池化层不一样的看法，[证伪：CNN中的图片平移不变性](https://zhuanlan.zhihu.com/p/38024868)\n",
    "\n",
    "\n"
   ]
  },
  {
   "cell_type": "markdown",
   "metadata": {
    "collapsed": false
   },
   "source": [
    "### 一点小小的宣传\n",
    "\n",
    "\n",
    "我目前在上海，感兴趣的领域包括模型压缩、小目标检测、嵌入式，欢迎交流关注。[来AI Studio互粉吧~等你哦~ ](https://aistudio.baidu.com/aistudio/personalcenter/thirdview/228777)"
   ]
  }
 ],
 "metadata": {
  "kernelspec": {
   "display_name": "PaddlePaddle 2.0.0b0 (Python 3.5)",
   "language": "python",
   "name": "py35-paddle1.2.0"
  },
  "language_info": {
   "codemirror_mode": {
    "name": "ipython",
    "version": 3
   },
   "file_extension": ".py",
   "mimetype": "text/x-python",
   "name": "python",
   "nbconvert_exporter": "python",
   "pygments_lexer": "ipython3",
   "version": "3.7.4"
  }
 },
 "nbformat": 4,
 "nbformat_minor": 1
}
